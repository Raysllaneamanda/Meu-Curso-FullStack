{
 "cells": [
  {
   "cell_type": "code",
   "execution_count": null,
   "metadata": {},
   "outputs": [],
   "source": [
    "# Questão 01\n",
    "nome = input(\"Digite o seu nome : \")\n",
    "print(nome)"
   ]
  },
  {
   "cell_type": "code",
   "execution_count": null,
   "metadata": {},
   "outputs": [],
   "source": [
    "#Questão 02\n",
    "nome = input(\"Digite o seu nome : \")\n",
    "idade = int(input(\"Qual a sua idade ? \"))\n",
    "\n",
    "print(f\"Seu nome é {nome}, e você tem {idade} anos.\")"
   ]
  },
  {
   "cell_type": "code",
   "execution_count": null,
   "metadata": {},
   "outputs": [],
   "source": [
    "#Questão 03\n",
    "num1 = int(input(\"Digite um numero: \"))\n",
    "num2 = int(input(\"Digite outro numero: \"))\n",
    "\n",
    "print(f\" A soma de {num1} + {num2} vai ser {num1 + num2}.\")"
   ]
  },
  {
   "cell_type": "code",
   "execution_count": null,
   "metadata": {},
   "outputs": [],
   "source": [
    "#Questão 04\n",
    "ano_nascimento = int(input(\"Digite o seu ano de nascimento: \"))\n",
    "ano_atual = int(input(\"Qual o ano atual ? \"))\n",
    "\n",
    "print(f\"Você nasceu em {ano_nascimento}, e a sua idade é {ano_atual - ano_nascimento}.\")"
   ]
  },
  {
   "cell_type": "code",
   "execution_count": 2,
   "metadata": {},
   "outputs": [
    {
     "name": "stdout",
     "output_type": "stream",
     "text": [
      "O valor em Fahrenheit é 95.0°f.\n"
     ]
    }
   ],
   "source": [
    "#Questão 05\n",
    "celsius = float(input(\"Digite um valor em graus celsius: \"))\n",
    "\n",
    "fahrenheigh = celsius * 9/5 + 32\n",
    "\n",
    "print(f\"O valor em Fahrenheit é {fahrenheigh}°f.\")"
   ]
  },
  {
   "cell_type": "code",
   "execution_count": null,
   "metadata": {},
   "outputs": [],
   "source": [
    "numero = int(input(\"Digite um numero: \"))\n",
    "\n",
    "if numero %2  == 0:\n",
    "    print(f\"O numero {numero} é par.\")\n",
    "else:\n",
    "    print(f\"O numero é impar.\")"
   ]
  },
  {
   "cell_type": "code",
   "execution_count": null,
   "metadata": {},
   "outputs": [],
   "source": [
    "num1 = int(input(\"Digite um numero: \"))\n",
    "num2 = int(input(\"Digite outro numero: \"))\n",
    "\n",
    "if num1 == num2:\n",
    "    print(f\"Os numeros são iguais.\")    \n",
    "else: \n",
    "    print(f\" Os numeros não são iguais.\")\n"
   ]
  },
  {
   "cell_type": "code",
   "execution_count": null,
   "metadata": {},
   "outputs": [],
   "source": [
    "salario = float(input(\"Digite o seu salário : \"))\n",
    "despesas = float(input(\"Digite o valor das suas despesas :\"))\n",
    "\n",
    "if salario > despesas:\n",
    "    print(f\"Gastos dentro do orçamento. Parabéns.\")\n",
    "else :\n",
    "    print(f\"Gastos fora do orçamento. Melhore.\")"
   ]
  },
  {
   "cell_type": "code",
   "execution_count": null,
   "metadata": {},
   "outputs": [],
   "source": [
    "#12/06   exercicio 01\n",
    "\n",
    "fruta = \"banana\"\n",
    "resposta = input(\"Digite uma fruta: \")\n",
    "\n",
    "if resposta == fruta:\n",
    "    print(\"Parabéns, você acertou.\")\n",
    "else:\n",
    "    print(\"Você errou, tente novamente.\")"
   ]
  },
  {
   "cell_type": "code",
   "execution_count": null,
   "metadata": {},
   "outputs": [],
   "source": [
    "#Exercicio 02\n",
    "\n",
    "numero = int(input(\"Digite um numero : \"))\n",
    "\n",
    "if numero >= 1 and numero <= 10:\n",
    "    print(\"Dentro do intervalo.\")\n",
    "else :\n",
    "    print (\"Fora do intervalo.\")    "
   ]
  },
  {
   "cell_type": "code",
   "execution_count": 17,
   "metadata": {},
   "outputs": [],
   "source": [
    "#Exercicio 03\n",
    "\n",
    "numero = int(input(\"Digite um numero : \"))\n",
    "\n",
    "\n"
   ]
  },
  {
   "cell_type": "code",
   "execution_count": null,
   "metadata": {},
   "outputs": [],
   "source": [
    "#Exercicio 04\n",
    "\n",
    "idade = int(input(\"Digite sua idade :\"))\n",
    "\n",
    "if idade > 0 and idade <= 12:\n",
    "    print(\"Você é uma criança.\")\n",
    "elif idade >= 13 and idade <= 17:\n",
    "    print(\"Você é um adolescente:\")\n",
    "elif idade >= 18 and idade <= 64:\n",
    "    print(\"Você é um adulto.\")\n",
    "else :\n",
    "    print(\"Você é um idoso.\")      "
   ]
  },
  {
   "cell_type": "code",
   "execution_count": null,
   "metadata": {},
   "outputs": [],
   "source": [
    "#Exercicio 05\n",
    "\n",
    "num1 = int(input(\"Digite um numero :\"))\n",
    "num2 = int(input(\"Digite outro numero :\"))\n"
   ]
  },
  {
   "cell_type": "code",
   "execution_count": null,
   "metadata": {},
   "outputs": [],
   "source": [
    "nota1 = float(input(\"Digite a primeira nota: \"))\n",
    "nota2 = float(input(\"Digite a segunda nota: \"))\n",
    "nota3 = float(input(\"Digite a terceira nota: \"))\n",
    "\n",
    "media = (nota1 + nota2 + nota3) / 3\n",
    "\n"
   ]
  }
 ],
 "metadata": {
  "kernelspec": {
   "display_name": "Python 3",
   "language": "python",
   "name": "python3"
  },
  "language_info": {
   "codemirror_mode": {
    "name": "ipython",
    "version": 3
   },
   "file_extension": ".py",
   "mimetype": "text/x-python",
   "name": "python",
   "nbconvert_exporter": "python",
   "pygments_lexer": "ipython3",
   "version": "3.12.3"
  }
 },
 "nbformat": 4,
 "nbformat_minor": 2
}
