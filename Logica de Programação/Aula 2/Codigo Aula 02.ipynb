{
 "cells": [
  {
   "cell_type": "code",
   "execution_count": null,
   "metadata": {},
   "outputs": [],
   "source": [
    "# Questão 01\n",
    "nome = input(\"Digite o seu nome : \")\n",
    "print(nome)"
   ]
  },
  {
   "cell_type": "code",
   "execution_count": null,
   "metadata": {},
   "outputs": [],
   "source": [
    "#Questão 02\n",
    "nome = input(\"Digite o seu nome : \")\n",
    "idade = int(input(\"Qual a sua idade ? \"))\n",
    "\n",
    "print(f\"Seu nome é {nome}, e você tem {idade} anos.\")"
   ]
  },
  {
   "cell_type": "code",
   "execution_count": null,
   "metadata": {},
   "outputs": [],
   "source": [
    "#Questão 03\n",
    "num1 = int(input(\"Digite um numero: \"))\n",
    "num2 = int(input(\"Digite outro numero: \"))\n",
    "\n",
    "print(f\" A soma de {num1} + {num2} vai ser {num1 + num2}.\")"
   ]
  },
  {
   "cell_type": "code",
   "execution_count": null,
   "metadata": {},
   "outputs": [],
   "source": [
    "#Questão 04\n",
    "ano_nascimento = int(input(\"Digite o seu ano de nascimento: \"))\n",
    "ano_atual = int(input(\"Qual o ano atual ? \"))\n",
    "\n",
    "print(f\"Você nasceu em {ano_nascimento}, e a sua idade é {ano_atual - ano_nascimento}.\")"
   ]
  },
  {
   "cell_type": "code",
   "execution_count": null,
   "metadata": {},
   "outputs": [],
   "source": [
    "#Questão 05\n",
    "c = float(input(\"Digite um valor em graus celsius: \"))\n",
    "\n",
    "f = (c * 9/5) + 32\n",
    "\n",
    "print(f\"O valor em Fahrenheit é {f}°f.\")"
   ]
  }
 ],
 "metadata": {
  "kernelspec": {
   "display_name": "Python 3",
   "language": "python",
   "name": "python3"
  },
  "language_info": {
   "codemirror_mode": {
    "name": "ipython",
    "version": 3
   },
   "file_extension": ".py",
   "mimetype": "text/x-python",
   "name": "python",
   "nbconvert_exporter": "python",
   "pygments_lexer": "ipython3",
   "version": "3.12.3"
  }
 },
 "nbformat": 4,
 "nbformat_minor": 2
}
