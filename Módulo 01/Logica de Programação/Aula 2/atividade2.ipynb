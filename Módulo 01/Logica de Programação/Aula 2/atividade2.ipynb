{
 "cells": [
  {
   "cell_type": "code",
   "execution_count": null,
   "metadata": {},
   "outputs": [],
   "source": [
    "#Exerc 01\n",
    "\n",
    "num1 = int(input(\"Digite o primeiro numero: \"))\n",
    "num2 = int(input(\"Digite o segundo numero: \"))\n",
    "\n",
    "if num1 > num2:\n",
    "    print(f\" O Primeiro número é maior que o segundo número.\")\n",
    "else:\n",
    "    print(f\" O primeiro numero é menor que o segundo número.\")"
   ]
  },
  {
   "cell_type": "code",
   "execution_count": null,
   "metadata": {},
   "outputs": [],
   "source": [
    "#Exerc 02\n",
    "\n",
    "num1 = int(input(\"Digite o primeiro numero: \"))\n",
    "num2 = int(input(\"Digite o segundo numero: \"))\n",
    "num3 = int(input(\"Digite o terceiro número: \"))\n",
    "\n",
    "respostas = [num1, num2, num3]\n",
    "maior = max(respostas)\n",
    "menor = min(respostas)\n",
    "\n",
    "print(f\"O maior número é {maior}, e o menor é {menor}.\")\n",
    "\n"
   ]
  },
  {
   "cell_type": "code",
   "execution_count": null,
   "metadata": {},
   "outputs": [],
   "source": [
    "#Exerc 03\n",
    "\n",
    "letra = (input(\"Digite uma letra: \"))\n",
    "\n",
    "vogais = [\"a\", \"e\", \"i\", \"o\", \"u\"]\n",
    "\n",
    "if letra in vogais:\n",
    "    print(f\"A letra {letra} é uma vogal.\")\n",
    "else:\n",
    "    print(f\"A letra {letra}, não é uma uma vogal.\")"
   ]
  },
  {
   "cell_type": "code",
   "execution_count": null,
   "metadata": {},
   "outputs": [],
   "source": [
    "#Exerc 04\n",
    "\n",
    "nota = float(input(\"Digite sua nota: \"))\n",
    "\n",
    "if nota >= 6:\n",
    "    print(\"Aprovado\")\n",
    "else:\n",
    "    print(\"Reprovado\")\n",
    "    "
   ]
  },
  {
   "cell_type": "code",
   "execution_count": null,
   "metadata": {},
   "outputs": [],
   "source": [
    "#Exerc 05\n",
    "\n",
    "tabuada = int(input(\"Tabuada do número: \"))\n",
    "\n",
    "for i in range(1, 11):\n",
    "    resultado = tabuada * i\n",
    "    print(f\"{tabuada} x {i} = {resultado} \")"
   ]
  }
 ],
 "metadata": {
  "kernelspec": {
   "display_name": "Python 3",
   "language": "python",
   "name": "python3"
  },
  "language_info": {
   "codemirror_mode": {
    "name": "ipython",
    "version": 3
   },
   "file_extension": ".py",
   "mimetype": "text/x-python",
   "name": "python",
   "nbconvert_exporter": "python",
   "pygments_lexer": "ipython3",
   "version": "3.12.3"
  }
 },
 "nbformat": 4,
 "nbformat_minor": 2
}
